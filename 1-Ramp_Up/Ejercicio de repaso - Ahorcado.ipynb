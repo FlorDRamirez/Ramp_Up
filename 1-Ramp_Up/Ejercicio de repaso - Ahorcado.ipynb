{
 "cells": [
  {
   "attachments": {},
   "cell_type": "markdown",
   "metadata": {},
   "source": [
    "## Juego del Ahorcado\n",
    "Desarrolla el juego del ahorcado en python. En cada turno irá mostrando por pantalla ```_ _ _ _ _``` las rayas bajas correspondientes al número de letras que tiene la palabra a adivinar. El usuario deberá insertar una letra y, si esa letra existe, se mostrará o mostrarán las letras acertadas ```S _ S _ _``` en sus posiciones correspondientes. \n",
    "\n",
    "Si falla, se mostrará el número de errores que lleva y, si lleva x errores, entonces se mostrará \"Fin del juego\"."
   ]
  },
  {
   "cell_type": "markdown",
   "metadata": {},
   "source": [
    "1. Inicializa el juego: declara una palabra a adivinar y muestra por pantalla la palabra oculta.\n"
   ]
  },
  {
   "cell_type": "markdown",
   "metadata": {},
   "source": [
    "\n",
    "```python\n",
    "_ _ _ _ _ _ _ _\n",
    "```"
   ]
  },
  {
   "cell_type": "code",
   "execution_count": 2,
   "metadata": {},
   "outputs": [
    {
     "name": "stdout",
     "output_type": "stream",
     "text": [
      "casa\n",
      "_ _ _ _\n"
     ]
    }
   ],
   "source": [
    "p_adivinar = input(\"Elige una palabra\")\n",
    "print(p_adivinar)\n",
    "p_ocultar = [\"_\"]*len(p_adivinar)\n",
    "print(*p_ocultar)"
   ]
  },
  {
   "cell_type": "markdown",
   "metadata": {},
   "source": [
    "2. Funcionamiento turnos: mediante un bucle genera el sistema de turnos donde el usuario introduce una letra y le va mostrando su progreso y sus vidas."
   ]
  },
  {
   "cell_type": "code",
   "execution_count": 3,
   "metadata": {},
   "outputs": [
    {
     "name": "stdout",
     "output_type": "stream",
     "text": [
      "c _ _ _\n",
      "c _ _ _\n",
      "c a _ a\n",
      "c a s a\n"
     ]
    }
   ],
   "source": [
    "turnos=3\n",
    "while turnos >0:\n",
    "    letra=input(\"Introduce una letra\")\n",
    "    #si la letra existe cambiarlo en la palabra oculta\n",
    "    if letra in p_adivinar:\n",
    "        #reemplazar_ por la letra en la palabra oculta\n",
    "        for posicion,valor in enumerate(p_adivinar):\n",
    "            #si es la misma letra sustituir la posicion\n",
    "            if letra == valor:\n",
    "                p_ocultar[posicion] = letra\n",
    "        print(*p_ocultar)\n",
    "        #no quedan _ a adivinar\n",
    "        if p_ocultar.count(\"_\") == 0:\n",
    "            break\n",
    "\n",
    "    else:\n",
    "        #si no existe , restar un turno e indicar que ha fallado\n",
    "        turnos = turnos-1\n",
    "\n",
    "\n"
   ]
  },
  {
   "cell_type": "markdown",
   "metadata": {},
   "source": [
    "3. Desarrolla la finalización de la partida, tanto si gana como si pierde."
   ]
  },
  {
   "cell_type": "code",
   "execution_count": 4,
   "metadata": {},
   "outputs": [
    {
     "name": "stdout",
     "output_type": "stream",
     "text": [
      "Has ganado\n"
     ]
    }
   ],
   "source": [
    "if p_ocultar.count(\"_\")==0:\n",
    "    print(\"Has ganado\")\n",
    "else:\n",
    "    print(\"Intentalo mas tarde\")"
   ]
  },
  {
   "cell_type": "markdown",
   "metadata": {},
   "source": [
    "4. Encapsula el juego en una función llamada ```jugar_ahorcado()``` con la palabra a adivinar y el número de vidas para seleccionar la dificultad como argumentos de entrada."
   ]
  },
  {
   "cell_type": "code",
   "execution_count": 5,
   "metadata": {},
   "outputs": [
    {
     "ename": "NameError",
     "evalue": "name 'jugar_ahorcado' is not defined",
     "output_type": "error",
     "traceback": [
      "\u001b[1;31m---------------------------------------------------------------------------\u001b[0m",
      "\u001b[1;31mNameError\u001b[0m                                 Traceback (most recent call last)",
      "Cell \u001b[1;32mIn[5], line 1\u001b[0m\n\u001b[1;32m----> 1\u001b[0m \u001b[43mjugar_ahorcado\u001b[49m(\u001b[38;5;124m\"\u001b[39m\u001b[38;5;124mTrabajo\u001b[39m\u001b[38;5;124m\"\u001b[39m,\u001b[38;5;241m2\u001b[39m)\n",
      "\u001b[1;31mNameError\u001b[0m: name 'jugar_ahorcado' is not defined"
     ]
    }
   ],
   "source": [
    "jugar_ahorcado(\"Trabajo\",2)"
   ]
  }
 ],
 "metadata": {
  "kernelspec": {
   "display_name": "Python 3.7.4 64-bit",
   "language": "python",
   "name": "python3"
  },
  "language_info": {
   "codemirror_mode": {
    "name": "ipython",
    "version": 3
   },
   "file_extension": ".py",
   "mimetype": "text/x-python",
   "name": "python",
   "nbconvert_exporter": "python",
   "pygments_lexer": "ipython3",
   "version": "3.12.3"
  },
  "orig_nbformat": 4,
  "vscode": {
   "interpreter": {
    "hash": "90139cb9a825bf3d63f6f6704e828dbd1ff7edbd4d0c6e906a71235d6efc74af"
   }
  }
 },
 "nbformat": 4,
 "nbformat_minor": 2
}
