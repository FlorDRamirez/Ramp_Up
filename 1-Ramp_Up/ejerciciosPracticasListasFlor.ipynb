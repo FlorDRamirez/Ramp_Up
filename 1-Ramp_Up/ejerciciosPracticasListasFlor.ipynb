{
 "cells": [
  {
   "cell_type": "markdown",
   "metadata": {},
   "source": [
    "# EJERCICIOS LISTAS Y TUPLAS\n"
   ]
  },
  {
   "cell_type": "markdown",
   "metadata": {},
   "source": [
    "# Ejercicio 1\n",
    "Escribir un programa que almacene las asignaturas de un curso (por ejemplo Matemáticas, Física, Química, Historia y Lengua) en una lista y la muestre por pantalla."
   ]
  },
  {
   "cell_type": "code",
   "execution_count": 1,
   "metadata": {},
   "outputs": [
    {
     "name": "stdout",
     "output_type": "stream",
     "text": [
      "['Matemáticas', 'Física', 'Química', 'Historia', 'Lengua']\n"
     ]
    }
   ],
   "source": [
    "asignaturas = [\"Matemáticas\",\"Física\",\"Química\",\"Historia\",\"Lengua\"]\n",
    "print(asignaturas)"
   ]
  },
  {
   "cell_type": "markdown",
   "metadata": {},
   "source": [
    "# Ejercicio 2\n",
    "Escribir un programa que almacene las asignaturas de un curso (por ejemplo Matemáticas, Física, Química, Historia y Lengua) en una lista y la muestre por pantalla el mensaje Yo estudio <asignatura>, donde <asignatura> es cada una de las asignaturas de la lista."
   ]
  },
  {
   "cell_type": "code",
   "execution_count": 4,
   "metadata": {},
   "outputs": [
    {
     "name": "stdout",
     "output_type": "stream",
     "text": [
      "Yo estudio: Matemáticas\n",
      "Yo estudio: Física\n",
      "Yo estudio: Química\n",
      "Yo estudio: Historia\n",
      "Yo estudio: Lengua\n"
     ]
    }
   ],
   "source": [
    "asignaturas = [\"Matemáticas\",\"Física\",\"Química\",\"Historia\",\"Lengua\"]\n",
    "for x in asignaturas:\n",
    "    print(f\"Yo estudio: {x}\")"
   ]
  },
  {
   "cell_type": "markdown",
   "metadata": {},
   "source": [
    "# Ejercicio 3\n",
    "Escribir un programa que almacene las asignaturas de un curso (por ejemplo Matemáticas, Física, Química, Historia y Lengua) en una lista, pregunte al usuario la nota que ha sacado en cada asignatura, y después las muestre por pantalla con el mensaje En <asignatura> has sacado <nota> donde <asignatura> es cada una des las asignaturas de la lista y <nota> cada una de las correspondientes notas introducidas por el usuario."
   ]
  },
  {
   "cell_type": "code",
   "execution_count": 6,
   "metadata": {},
   "outputs": [
    {
     "name": "stdout",
     "output_type": "stream",
     "text": [
      "En: Matemáticas, has sacado: 9\n",
      "En: Física, has sacado: 8\n",
      "En: Química, has sacado: 9\n",
      "En: Historia, has sacado: 6\n",
      "En: Lengua, has sacado: 7\n"
     ]
    }
   ],
   "source": [
    "asignaturas = [\"Matemáticas\",\"Física\",\"Química\",\"Historia\",\"Lengua\"]\n",
    "nota = []\n",
    "for x in asignaturas:\n",
    "    ingresa_notas = input(f\"Cual es la nota de la asignatura: {x}\")\n",
    "    nota.append(ingresa_notas)\n",
    "for y in range(len(asignaturas)):\n",
    "    print(f\"En: {asignaturas[y]}, has sacado: {nota[y]}\")"
   ]
  },
  {
   "cell_type": "markdown",
   "metadata": {},
   "source": [
    "# Ejercicio 4\n",
    "Escribir un programa que pregunte al usuario los números ganadores de la lotería primitiva, los almacene en una lista y los muestre por pantalla ordenados de menor a mayor."
   ]
  },
  {
   "cell_type": "code",
   "execution_count": 9,
   "metadata": {},
   "outputs": [
    {
     "name": "stdout",
     "output_type": "stream",
     "text": [
      "Los numeros ganadores son[6, 3, 4, 9, 9, 9]\n"
     ]
    }
   ],
   "source": [
    "primitiva = []\n",
    "for i in range(6):\n",
    "    primitiva.append(int(input(\"Ingrese numero ganador de la loteria:\"))) #la primitiva tiene 6 numeros, a la lista primitiva le añado cada numero que ingreso hasta 6 elementos\n",
    "primitiva.sort() #ordeno la lista si quiero mostrarla ordenada y no como fueron ingresados los numeros\n",
    "print(\"Los numeros ganadores son\"+str(primitiva))\n"
   ]
  },
  {
   "cell_type": "markdown",
   "metadata": {},
   "source": [
    "# Ejercicio 5\n",
    "Escribir un programa que almacene en una lista los números del 1 al 10 y los muestre por pantalla en orden inverso separados por comas."
   ]
  },
  {
   "cell_type": "code",
   "execution_count": 11,
   "metadata": {},
   "outputs": [
    {
     "name": "stdout",
     "output_type": "stream",
     "text": [
      "10,9,8,7,6,5,4,3,2,1,"
     ]
    }
   ],
   "source": [
    "numeros_inversos = [1,2,3,4,5,6,7,8,9,10]\n",
    "for i in range(1,11):\n",
    "    print(numeros_inversos[-i],end=\",\")"
   ]
  },
  {
   "cell_type": "code",
   "execution_count": 12,
   "metadata": {},
   "outputs": [
    {
     "name": "stdout",
     "output_type": "stream",
     "text": [
      "10,9,8,7,6,5,4,3,2,1,"
     ]
    }
   ],
   "source": [
    "numeros_inversos = [1,2,3,4,5,6,7,8,9,10]\n",
    "numeros_inversos.reverse()\n",
    "for i in numeros_inversos:\n",
    "    print(i,end=\",\")"
   ]
  },
  {
   "cell_type": "markdown",
   "metadata": {},
   "source": [
    "# Ejercicio 6\n",
    "Escribir un programa que almacene las asignaturas de un curso (por ejemplo Matemáticas, Física, Química, Historia y Lengua) en una lista, pregunte al usuario la nota que ha sacado en cada asignatura y elimine de la lista las asignaturas aprobadas. Al final el programa debe mostrar por pantalla las asignaturas que el usuario tiene que repetir."
   ]
  },
  {
   "cell_type": "code",
   "execution_count": 13,
   "metadata": {},
   "outputs": [
    {
     "name": "stdout",
     "output_type": "stream",
     "text": [
      "Tienes que repetir ['Física', 'Lengua']\n"
     ]
    }
   ],
   "source": [
    "materias = [\"Matemáticas\", \"Física\", \"Química\", \"Historia\", \"Lengua\"]\n",
    "notasapro = []\n",
    "for i in materias:\n",
    "    promedio = float(input(f\"¿ Que nota has sacado ? {i}\"))\n",
    "    if promedio >= 5:\n",
    "        notasapro.append(i)\n",
    "for i in notasapro:\n",
    "    materias.remove(i)\n",
    "print(f\"Tienes que repetir {materias}\")\n"
   ]
  },
  {
   "cell_type": "code",
   "execution_count": 16,
   "metadata": {},
   "outputs": [
    {
     "name": "stdout",
     "output_type": "stream",
     "text": [
      "Tienes que repetir: ['Lengua']\n"
     ]
    }
   ],
   "source": [
    "materias2 = [\"Matemáticas\", \"Física\", \"Química\", \"Historia\", \"Lengua\"]\n",
    "for x in range(len(materias2)-1,-1,-1):\n",
    "    promedio2=float(input(f\"¿Qué nota has sacado? {materias2[x]}\"))\n",
    "    if promedio2 >=5:\n",
    "        materias2.pop(x)\n",
    "print(f\"Tienes que repetir: {materias2}\")\n",
    "\n"
   ]
  },
  {
   "cell_type": "markdown",
   "metadata": {},
   "source": [
    "# Ejercicio 7\n",
    "Escribir un programa que almacene el abecedario en una lista, elimine de la lista las letras que ocupen posiciones múltiplos de 3, y muestre por pantalla la lista resultante."
   ]
  },
  {
   "cell_type": "code",
   "execution_count": 17,
   "metadata": {},
   "outputs": [
    {
     "name": "stdout",
     "output_type": "stream",
     "text": [
      "['a', 'b', 'd', 'e', 'g', 'h', 'j', 'k', 'm', 'n', 'o', 'p', 'r', 's', 'u', 'v', 'x', 'y']\n"
     ]
    }
   ],
   "source": [
    "alfabeto = ['a', 'b', 'c', 'd', 'e', 'f', 'g', 'h', 'i', 'j', 'k', 'l', 'm', 'n', 'ñ', 'o', 'p', 'q', 'r', 's', 't', 'u', 'v', 'w', 'x', 'y', 'z']\n",
    "for i in range(len(alfabeto),1,-1):\n",
    "    if i%3==0:\n",
    "        alfabeto.pop(i-1)\n",
    "print(alfabeto)"
   ]
  },
  {
   "cell_type": "markdown",
   "metadata": {},
   "source": [
    "# Ejercicio 8\n",
    "Escribir un programa que pida al usuario una palabra y muestre por pantalla si es un palíndromo."
   ]
  },
  {
   "cell_type": "code",
   "execution_count": 25,
   "metadata": {},
   "outputs": [
    {
     "name": "stdout",
     "output_type": "stream",
     "text": [
      "Es un palíndromo, la palabra ['s', 'o', 'm', 'o', 's'] y ['s', 'o', 'm', 'o', 's']\n"
     ]
    }
   ],
   "source": [
    "palabra = input(\"Ingresa palabra\")\n",
    "palabrainversa = palabra\n",
    "palabra = list(palabra) #lo convierto en una lista\n",
    "palabrainversa = list(palabrainversa) \n",
    "palabrainversa.reverse() #invierto la palabra contenida en la lista\n",
    "if palabra == palabrainversa:\n",
    "    print(f\"Es un palíndromo, la palabra {palabra} y {palabrainversa}\")\n",
    "else:\n",
    "    print(f\"no es palíndromo\")"
   ]
  },
  {
   "cell_type": "markdown",
   "metadata": {},
   "source": [
    "# Ejercicio 9\n",
    "Escribir un programa que pida al usuario una palabra y muestre por pantalla el número de veces que contiene cada vocal."
   ]
  },
  {
   "cell_type": "code",
   "execution_count": 28,
   "metadata": {},
   "outputs": [
    {
     "name": "stdout",
     "output_type": "stream",
     "text": [
      "La vocal a aparece 2 veces en la palabra paralelepipedo\n",
      "La vocal e aparece 3 veces en la palabra paralelepipedo\n",
      "La vocal i aparece 1 veces en la palabra paralelepipedo\n",
      "La vocal o aparece 1 veces en la palabra paralelepipedo\n",
      "La vocal u aparece 0 veces en la palabra paralelepipedo\n"
     ]
    }
   ],
   "source": [
    "palabra2 = input(\"Ingrese palabra o frase\")\n",
    "vocales = [\"a\",\"e\",\"i\",\"o\",\"u\"]\n",
    "for v in vocales:\n",
    "    contador=0\n",
    "    for letra in palabra2:\n",
    "        if letra == v:\n",
    "            contador=contador+1\n",
    "    print(f\"La vocal {v} aparece {contador} veces en la palabra {palabra2}\")\n"
   ]
  },
  {
   "cell_type": "markdown",
   "metadata": {},
   "source": [
    "# Ejercicio 10\n",
    "Escribir un programa que almacene en una lista los siguientes precios, 50, 75, 46, 22, 80, 65, 8, y muestre por pantalla el menor y el mayor de los precios."
   ]
  },
  {
   "cell_type": "code",
   "execution_count": 29,
   "metadata": {},
   "outputs": [
    {
     "name": "stdout",
     "output_type": "stream",
     "text": [
      "El mínimo es 8\n",
      "El máximo es 80\n"
     ]
    }
   ],
   "source": [
    "precio = [50, 75, 46, 22, 80, 65, 8]\n",
    "min = precio[0]\n",
    "max = precio[0]\n",
    "for p in precio:\n",
    "    if p < min:\n",
    "        min = p\n",
    "    elif p > max:\n",
    "        max = p\n",
    "print(\"El mínimo es \" + str(min)) \n",
    "print(\"El máximo es \" + str(max))"
   ]
  },
  {
   "cell_type": "markdown",
   "metadata": {},
   "source": [
    "# Ejercicio 11\n",
    "Escribir un programa que almacene los vectores (1,2,3) y (-1,0,2) en dos listas y muestre por pantalla su producto escalar."
   ]
  },
  {
   "cell_type": "code",
   "execution_count": 33,
   "metadata": {},
   "outputs": [
    {
     "name": "stdout",
     "output_type": "stream",
     "text": [
      "El producto de los vectores 5\n"
     ]
    }
   ],
   "source": [
    "vector1 = (1,2,3)\n",
    "vector2 = (-1,0,2)\n",
    "producto_escalar = 0\n",
    "for i in range(len(vector1)):\n",
    "    producto_escalar=producto_escalar+vector1[i]*vector2[i]\n",
    "print(f\"El producto de los vectores {producto_escalar}\")\n",
    "\n"
   ]
  },
  {
   "cell_type": "markdown",
   "metadata": {},
   "source": [
    "# EJERCICIOS DICCIONARIOS"
   ]
  },
  {
   "cell_type": "markdown",
   "metadata": {},
   "source": [
    "# Ejercicio 1\n",
    "Escribir un programa que guarde en una variable el diccionario {'Euro':'€', 'Dollar':'$', 'Yen':'¥'}, pregunte al usuario por una divisa y muestre su símbolo o un mensaje de aviso si la divisa no está en el diccionario."
   ]
  },
  {
   "cell_type": "code",
   "execution_count": 38,
   "metadata": {},
   "outputs": [
    {
     "name": "stdout",
     "output_type": "stream",
     "text": [
      "La divisa no esta\n",
      "<class 'dict'>\n"
     ]
    }
   ],
   "source": [
    "monedas = {\"Euro\":\"€\", \"Dolar\":\"$\", \"Yen\":\"¥\"}\n",
    "moneda = input(\"Introduce divisa\")\n",
    "\n",
    "print(monedas.get(moneda.title(),\"La divisa no esta\"))\n",
    "print(type(monedas))"
   ]
  },
  {
   "cell_type": "code",
   "execution_count": 40,
   "metadata": {},
   "outputs": [
    {
     "name": "stdout",
     "output_type": "stream",
     "text": [
      "La divisa no está.\n"
     ]
    }
   ],
   "source": [
    "monedas = {'Euro':'€', 'Dollar':'$', 'Yen':'¥'}\n",
    "moneda = input(\"Introduce una divisa: \")\n",
    "if moneda.title() in monedas:\n",
    "    print(monedas[moneda.title()])\n",
    "else:\n",
    "    print(\"La divisa no está.\")"
   ]
  },
  {
   "cell_type": "markdown",
   "metadata": {},
   "source": [
    "# Ejercicio 2\n",
    "Escribir un programa que pregunte al usuario su nombre, edad, dirección y teléfono y lo guarde en un diccionario. Después debe mostrar por pantalla el mensaje <nombre> tiene <edad> años, vive en <dirección> y su número de teléfono es <teléfono>."
   ]
  },
  {
   "cell_type": "code",
   "execution_count": 46,
   "metadata": {},
   "outputs": [
    {
     "name": "stdout",
     "output_type": "stream",
     "text": [
      "La persona que se llama flor, tiene 42 años, vive en cruces y su telefono es 987456321\n"
     ]
    }
   ],
   "source": [
    "nombre = input(\"Ingresa el nombre:\")\n",
    "edad = int(input(\"Ingresa la edad:\"))\n",
    "direccion = input(\"Ingresa la dirección:\")\n",
    "telefono = input(\"Ingresa el numero telefono:\")\n",
    "persona = {\"nombre\":nombre, \"edad\":edad, \"direccion\":direccion, \"telefono\":telefono}\n",
    "print(f\"La persona que se llama {persona['nombre']}, tiene {persona['edad']} años, vive en {persona['direccion']} y su telefono es {persona['telefono']}\")"
   ]
  },
  {
   "cell_type": "markdown",
   "metadata": {},
   "source": [
    "# Ejercicio 3\n",
    "Escribir un programa que guarde en un diccionario los precios de las frutas de la tabla, pregunte al usuario por una fruta, un número de kilos y muestre por pantalla el precio de ese número de kilos de fruta. Si la fruta no está en el diccionario debe mostrar un mensaje informando de ello.\n",
    "<table>\n",
    "        <tr>\n",
    "            <th>Fruta</th>\n",
    "            <th>Precio</th>\n",
    "        </tr>\n",
    "        <tr>\n",
    "            <td>Platano</td>\n",
    "            <td>1.35</td>\n",
    "        </tr>\n",
    "        <tr>\n",
    "            <td>Manzana</td>\n",
    "            <td>0.80</td>\n",
    "        </tr>\n",
    "        <tr>\n",
    "            <td>Pera</td>\n",
    "            <td>0.85</td>\n",
    "        </tr>\n",
    "        <tr>\n",
    "            <td>Naranja</td>\n",
    "            <td>0.70</td>\n",
    "        </tr>\n",
    "    </table>"
   ]
  },
  {
   "cell_type": "code",
   "execution_count": 13,
   "metadata": {},
   "outputs": [
    {
     "name": "stdout",
     "output_type": "stream",
     "text": [
      "Fruta no disponible\n"
     ]
    }
   ],
   "source": [
    "frutas = {'Platano':1.35, 'Manzana':0.80,'Pera':0.85,'Naranja':0.70}\n",
    "fruta = input(\"Que fruta va a comprar:\").title()\n",
    "kg = float(input(\"cuantos kilos va a comprar:\"))\n",
    "if fruta in frutas:\n",
    "    pagar = frutas[fruta]*kg\n",
    "    print(kg,'kilos de', fruta, 'valen:', pagar, '€')\n",
    "else:\n",
    "    print(\"Fruta no disponible\")\n",
    "\n",
    "\n"
   ]
  },
  {
   "cell_type": "markdown",
   "metadata": {},
   "source": [
    "# Ejercicio 4\n",
    "Escribir un programa que pregunte una fecha en formato dd/mm/aaaa y muestre por pantalla la misma fecha en formato dd de <mes> de aaaa donde <mes> es el nombre del mes."
   ]
  },
  {
   "cell_type": "code",
   "execution_count": 14,
   "metadata": {},
   "outputs": [
    {
     "name": "stdout",
     "output_type": "stream",
     "text": [
      "28 de Diciembre de 1981\n"
     ]
    }
   ],
   "source": [
    "meses = {1:'Enero', 2:'Febrero', 3:'Marzo', 4:'Abril', 5:'Mayo', 6:'Junio', 7:'Julio', 8:'Agosto', 9:'Septiembre', 10:'Octubre', 11:'Noviembre', 12:'Diciembre'}\n",
    "fecha = input(\"ingrese fecha dd/mm/aaaa:\")\n",
    "fecha = fecha.split('/') #split divide la cadena donde encuentre el caracter /\n",
    "                        #dd/mm/aaaa 3 elementos con indice 0,1,2\n",
    "print(fecha[0], 'de', meses[int(fecha[1])],'de',fecha[2])\n"
   ]
  },
  {
   "cell_type": "markdown",
   "metadata": {},
   "source": [
    "# Ejercicio 5\n",
    "Escribir un programa que almacene el diccionario con los créditos de las asignaturas de un curso {'Matemáticas': 6, 'Física': 4, 'Química': 5} y después muestre por pantalla los créditos de cada asignatura en el formato <asignatura> tiene <créditos> créditos, donde <asignatura> es cada una de las asignaturas del curso, y <créditos> son sus créditos. Al final debe mostrar también el número total de créditos del curso."
   ]
  },
  {
   "cell_type": "code",
   "execution_count": 17,
   "metadata": {},
   "outputs": [
    {
     "name": "stdout",
     "output_type": "stream",
     "text": [
      "Matematicas tiene 6 creditos\n",
      "Fisica tiene 4 creditos\n",
      "Quimica tiene 5 creditos\n",
      "Total creditos del curso 15\n"
     ]
    }
   ],
   "source": [
    "curso = {'Matematicas':6, 'Fisica':4, 'Quimica':5} #clave Matematicas, valor 6\n",
    "total_creditos=0\n",
    "for asignatura, creditos in curso.items(): #for itera entre los elementos(asignatura:matematica y creditos:6) de un diccionario llamado curso\n",
    "                                  #items() metodo de los diccionarios para iterar clave y valor\n",
    "    print(asignatura,'tiene', creditos, 'creditos')\n",
    "    total_creditos=total_creditos+creditos #sumar el total de creditos inscritos\n",
    "print('Total creditos del curso:', total_creditos)\n",
    "\n"
   ]
  },
  {
   "cell_type": "markdown",
   "metadata": {},
   "source": [
    "# Ejercicio 6\n",
    "Escribir un programa que cree un diccionario vacío y lo vaya llenado con información sobre una persona (por ejemplo nombre, edad, sexo, teléfono, correo electrónico, etc.) que se le pida al usuario. Cada vez que se añada un nuevo dato debe imprimirse el contenido del diccionario."
   ]
  },
  {
   "cell_type": "code",
   "execution_count": 19,
   "metadata": {},
   "outputs": [
    {
     "name": "stdout",
     "output_type": "stream",
     "text": [
      "\n",
      "Información de la persona:\n",
      "Nombre: flor\n",
      "Edad: 40\n",
      "Sexo: mujer\n",
      "Telefono: 3513213212\n",
      "Correo: dasd@asd.com\n"
     ]
    }
   ],
   "source": [
    "persona = {}\n",
    "nombre = input(\"Ingrese nombre\")\n",
    "edad = int(input(\"Ingrese edad\"))\n",
    "sexo = input(\"Ingresar sexo (hombre/mujer)\")\n",
    "telefono = input(\"ingrese numero de telefono\")\n",
    "correo = input(\"ingrese correo electronico\")\n",
    "\n",
    "#agregar datos al diccionario\n",
    "persona['Nombre']=nombre\n",
    "persona['Edad']=edad\n",
    "persona['Sexo']=sexo\n",
    "persona['Telefono']=telefono\n",
    "persona['Correo']=correo\n",
    "\n",
    "#imprimir contenido del diccionario\n",
    "print(\"\\nInformación de la persona:\")\n",
    "for clave, valor in persona.items():\n",
    "        print(f\"{clave}: {valor}\")\n",
    "\n",
    "\n"
   ]
  },
  {
   "cell_type": "code",
   "execution_count": 20,
   "metadata": {},
   "outputs": [
    {
     "name": "stdout",
     "output_type": "stream",
     "text": [
      "{'Nombre': 'Flor'}\n",
      "{'Nombre': 'Flor', 'Apellido': 'Ramirez'}\n",
      "{'Nombre': 'Flor', 'Apellido': 'Ramirez', 'Edad': '40'}\n"
     ]
    }
   ],
   "source": [
    "persona2 = {}\n",
    "continuar = True\n",
    "while continuar:\n",
    "    clave = input('¿Qué dato quieres introducir? ')\n",
    "    valor = input(clave + ': ')\n",
    "    persona2[clave] = valor\n",
    "    print(persona2)\n",
    "    continuar = input('¿Quieres añadir más información (Si/No)? ') == \"Si\""
   ]
  },
  {
   "cell_type": "markdown",
   "metadata": {},
   "source": [
    "# Ejercicio 7\n",
    "Escribir un programa que cree un diccionario simulando una cesta de la compra. El programa debe preguntar el artículo y su precio y añadir el par al diccionario, hasta que el usuario decida terminar. Después se debe mostrar por pantalla la lista de la compra y el coste total, con el siguiente formato\n",
    "<table>\n",
    "        <tr>\n",
    "            <th>Articulo 1</th>\n",
    "            <th>Precio</th>\n",
    "        </tr>\n",
    "        <tr>\n",
    "            <th>Articulo 2</th>\n",
    "            <th>Precio</th>\n",
    "        </tr>\n",
    "        <tr>\n",
    "            <th>Articulo 3</th>\n",
    "            <th>Precio</th>\n",
    "        </tr>\n",
    "        <tr>\n",
    "            <td>...</td>\n",
    "            <td>...</td>\n",
    "        </tr>\n",
    "        <tr>\n",
    "            <td>Total</td>\n",
    "            <td>Coste</td>\n",
    "        </tr>\n",
    "    </table>"
   ]
  },
  {
   "cell_type": "code",
   "execution_count": 22,
   "metadata": {},
   "outputs": [
    {
     "name": "stdout",
     "output_type": "stream",
     "text": [
      "\n",
      "Cesta de articulos:\n",
      "Articulo: agenda\n",
      "Precio: 5\n"
     ]
    }
   ],
   "source": [
    "cesta_compra = {}\n",
    "articulo = input(\"Ingrese articulo\")\n",
    "precio = int(input(\"Ingrese precio\"))\n",
    "\n",
    "#agregar datos al diccionario\n",
    "cesta_compra['Articulo']=articulo\n",
    "cesta_compra['Precio']=precio\n",
    "\n",
    "#imprimir contenido del diccionario\n",
    "print(\"\\nCesta de articulos:\")\n",
    "for clave, valor in cesta_compra.items():\n",
    "        print(f\"{clave}: {valor}\")\n",
    "\n"
   ]
  },
  {
   "cell_type": "code",
   "execution_count": 24,
   "metadata": {},
   "outputs": [
    {
     "name": "stdout",
     "output_type": "stream",
     "text": [
      "Lista de la compra\n",
      "folios \t 4.0\n",
      "Coste total:  4.0\n"
     ]
    }
   ],
   "source": [
    "cesta2 = {}\n",
    "continuar = True\n",
    "while continuar:\n",
    "    item = input('Introduce un artículo: ')\n",
    "    precio = float(input('Introduce el precio de ' + item + ': '))\n",
    "    cesta2[item] = precio\n",
    "    continuar = input('¿Quieres añadir artículos a la lista (Si/No)? ') == \"Si\"\n",
    "coste = 0\n",
    "print('Lista de la compra')\n",
    "for item, precio in cesta2.items():\n",
    "    print(item, '\\t', precio)\n",
    "    coste += precio\n",
    "print('Coste total: ', coste)"
   ]
  }
 ],
 "metadata": {
  "kernelspec": {
   "display_name": "Python 3",
   "language": "python",
   "name": "python3"
  },
  "language_info": {
   "codemirror_mode": {
    "name": "ipython",
    "version": 3
   },
   "file_extension": ".py",
   "mimetype": "text/x-python",
   "name": "python",
   "nbconvert_exporter": "python",
   "pygments_lexer": "ipython3",
   "version": "3.12.3"
  }
 },
 "nbformat": 4,
 "nbformat_minor": 2
}
