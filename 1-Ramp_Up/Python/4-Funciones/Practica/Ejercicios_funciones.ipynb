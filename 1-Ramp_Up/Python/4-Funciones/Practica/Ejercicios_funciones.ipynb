{
 "cells": [
  {
   "cell_type": "markdown",
   "metadata": {},
   "source": [
    "![imagen](./img/ejercicios.png)"
   ]
  },
  {
   "cell_type": "markdown",
   "metadata": {},
   "source": [
    "# Ejercicios funciones\n",
    "## Ejercicio 1\n",
    "Escribe una función que convierta números del 1 al 7 en nombres de los dias de la semana. La función constará de un único argumento numérico y una salida de tipo string"
   ]
  },
  {
   "cell_type": "code",
   "execution_count": 27,
   "metadata": {},
   "outputs": [
    {
     "name": "stdout",
     "output_type": "stream",
     "text": [
      "Domingo\n"
     ]
    }
   ],
   "source": [
    "\n",
    "def dia_semana(dia):\n",
    "    match dia:\n",
    "        case 1: \n",
    "            return \"Lunes\"\n",
    "        case 2:\n",
    "            return \"Martes\"\n",
    "        case 3:\n",
    "            return \"Miercoles\"\n",
    "        case 4:\n",
    "            return \"Jueves\"\n",
    "        case 5:\n",
    "            return \"Viernes\"\n",
    "        case 6:\n",
    "            return \"Sabado\"\n",
    "        case 7:\n",
    "            return \"Domingo\"\n",
    "\n",
    "numero_convertido= dia_semana(7)\n",
    "print(numero_convertido)"
   ]
  },
  {
   "cell_type": "markdown",
   "metadata": {},
   "source": [
    "## Ejercicio 2\n",
    "En el ejercicio 8 de flujos de control, creábamos una pirámide invertida de números desde el 5. Crea una función que replique el comportamiento de la pirámide, y utiliza un único parámetro de entrada de la función para determinar el número de filas de la pirámide."
   ]
  },
  {
   "cell_type": "code",
   "execution_count": 43,
   "metadata": {},
   "outputs": [
    {
     "name": "stdout",
     "output_type": "stream",
     "text": [
      "7  6  5  4  3  2  1  \n",
      "\n",
      "6  5  4  3  2  1  \n",
      "\n",
      "5  4  3  2  1  \n",
      "\n",
      "4  3  2  1  \n",
      "\n",
      "3  2  1  \n",
      "\n",
      "2  1  \n",
      "\n",
      "1  \n",
      "\n",
      "None\n"
     ]
    }
   ],
   "source": [
    "def piramide_invertida(filas_piramide):\n",
    "    for x in range(filas_piramide, 0, -1):\n",
    "        for y in range(x, 0, -1):\n",
    "            print(y, end=\"  \")\n",
    "        print()\n",
    "        print()\n",
    "  \n",
    "resultado = piramide_invertida(7)\n",
    "print(resultado)"
   ]
  },
  {
   "cell_type": "markdown",
   "metadata": {},
   "source": [
    "## Ejercicio 3\n",
    "Escribe una función que compare dos números. La función tiene dos argumentos y hay tres salidas posibles: que sean iguales, que el primero sea  mayor que el segundo, o que el segundo sea mayor que el primero"
   ]
  },
  {
   "cell_type": "code",
   "execution_count": 8,
   "metadata": {},
   "outputs": [
    {
     "name": "stdout",
     "output_type": "stream",
     "text": [
      "El numero 2 es mayo al numero 1\n"
     ]
    }
   ],
   "source": [
    "def comparar(numero1, numero2):\n",
    "    if numero1 == numero2:\n",
    "        return \"Los numeros son iguales\"\n",
    "    elif numero1 > numero2:\n",
    "        return \"El numero 1 es mayor al numero 2\"\n",
    "    elif numero2 > numero1:\n",
    "        return \"El numero 2 es mayor al numero 1\"\n",
    "    \n",
    "\n",
    "comparacion = comparar(1,8)\n",
    "print(comparacion)\n",
    "    "
   ]
  },
  {
   "attachments": {},
   "cell_type": "markdown",
   "metadata": {},
   "source": [
    "## Ejercicio 4\n",
    "Escribe una función que sea un contador de letras. En el primer argumento tienes que introducir un texto, y el segundo que sea una letra que contar. La función tiene que devolver un entero con el número de veces que aparece esa letra, tanto mayúscula, como minúscula"
   ]
  },
  {
   "cell_type": "code",
   "execution_count": 53,
   "metadata": {},
   "outputs": [
    {
     "name": "stdout",
     "output_type": "stream",
     "text": [
      "La palabra o frase: san cristobal estado TachIra tiene la letra: I, 2 veces\n"
     ]
    }
   ],
   "source": [
    "def contar_letras(cadena_texto, letra_a_contar):\n",
    "\n",
    "    contador_letra = 0\n",
    "    for x in cadena_texto:\n",
    "        if (x.lower() == letra_a_contar.lower()):\n",
    "            contador_letra = contador_letra+1\n",
    "    return contador_letra\n",
    "\n",
    "cadena_texto = input(\"Ingresa palabra o frase:\")\n",
    "letra_a_contar = input(\"Ingresa letra a buscar para contar la cantidad de veces que aparece\")\n",
    "letras_encontradas = contar_letras(cadena_texto,letra_a_contar)\n",
    "print(f\"La palabra o frase: {cadena_texto} tiene la letra: {letra_a_contar}, {letras_encontradas} veces\")\n",
    "\n",
    "\n"
   ]
  },
  {
   "cell_type": "markdown",
   "metadata": {},
   "source": [
    "## Ejercicio 5\n",
    "Escribe una función que tenga un único argumento, un string. La salida de la función tiene que ser un diccionario con el conteo de todas las letras de ese string, siendo la clave la letra y el valor el conteo."
   ]
  },
  {
   "cell_type": "code",
   "execution_count": 57,
   "metadata": {},
   "outputs": [
    {
     "name": "stdout",
     "output_type": "stream",
     "text": [
      "<class 'str'>\n"
     ]
    }
   ],
   "source": [
    "string = input('¿Cómo te llamas? ')\n",
    "\n",
    "diccionario = {'string': string, }\n",
    "print(diccionario['string'])"
   ]
  },
  {
   "cell_type": "markdown",
   "metadata": {},
   "source": [
    "## Ejercicio 6\n",
    "Escribir una función que añada o elimine elementos en una lista. La función necesita los siguientes argumentos:\n",
    "* lista: la lista donde se añadirán o eliminarán los elementos\n",
    "* comando: \"add\" o \"remove\"\n",
    "* elemento: Por defecto es None.\n",
    "\n",
    "Tendrá como salida la lista"
   ]
  },
  {
   "cell_type": "code",
   "execution_count": 3,
   "metadata": {},
   "outputs": [
    {
     "name": "stdout",
     "output_type": "stream",
     "text": [
      "No se conoce el comando\n"
     ]
    }
   ],
   "source": [
    "def comandos_lista(lista, comando, elemento=None):\n",
    "     #si el comando que me pasa es add o remove\n",
    "    if comando in [\"add\",\"remove\"]:\n",
    "        if comando == \"add\":\n",
    "            return lista.append(elemento)\n",
    "        else:\n",
    "            return lista.remove(elemento)\n",
    "    else:\n",
    "        print(\"No se conoce el comando\")\n",
    "\n",
    "comandos_lista([\"VW\",\"XDS\"],\"añadir\",\"seat\")\n"
   ]
  },
  {
   "cell_type": "markdown",
   "metadata": {},
   "source": [
    "## Ejercicio 7\n",
    "Crea una función que reciba un número arbitrario de palabras, y devuelva una frase completa, separando las palabras con espacios."
   ]
  },
  {
   "cell_type": "code",
   "execution_count": 4,
   "metadata": {},
   "outputs": [],
   "source": []
  },
  {
   "cell_type": "markdown",
   "metadata": {},
   "source": [
    "## Ejercicio 8\n",
    "Escribe un programa que obtenga el enésimo número de la [serie de Fibonacci](https://es.wikipedia.org/wiki/Sucesi%C3%B3n_de_Fibonacci). Tienes que crear una función recursiva con un único argumento.\n",
    "\n",
    "```Python\n",
    "fibonacci(2) = 1\n",
    "fibonacci(4) = 3\n",
    "fibonacci(5) = 5\n",
    "fibonacci(8) = 21\n",
    "```"
   ]
  },
  {
   "cell_type": "markdown",
   "metadata": {},
   "source": [
    "fibonacci(n) = fibonacci(n-1) + fibonacci(n-2)"
   ]
  },
  {
   "cell_type": "code",
   "execution_count": null,
   "metadata": {},
   "outputs": [],
   "source": [
    "# AQUÍ VA VUESTRO CÓDIGO"
   ]
  },
  {
   "attachments": {},
   "cell_type": "markdown",
   "metadata": {},
   "source": [
    "## Ejercicio 9\n",
    "Define en una única celda las siguientes funciones:\n",
    "* Función que calcule el área de un cuadrado\n",
    "* Función que calcule el área de un triángulo\n",
    "* Función que calcule el área de un círculo\n",
    "\n",
    "En otra celda, calcular el area de:\n",
    "* Dos círculos de radio 10 + un triángulo de base 3 y altura 7\n",
    "* Un cuadrado de lado = 10 + 3 círculos (uno de radio = 4 y los otros dos de radio = 6) + 5 triángulos de base = 2 + altura = 4"
   ]
  },
  {
   "cell_type": "code",
   "execution_count": 143,
   "metadata": {},
   "outputs": [],
   "source": [
    "# AQUÍ VA VUESTRO CÓDIGO"
   ]
  },
  {
   "cell_type": "markdown",
   "metadata": {},
   "source": [
    "## Ejercicio 10\n",
    "\n",
    "Guarda las funciones de estos ejercicios en un fichero llamado `funciones.py` e importalas desde este jupyter notebook para probar que puedes hacer uso de ellas."
   ]
  },
  {
   "cell_type": "code",
   "execution_count": null,
   "metadata": {},
   "outputs": [],
   "source": [
    "# AQUÍ VA VUESTRO CÓDIGO"
   ]
  }
 ],
 "metadata": {
  "kernelspec": {
   "display_name": "Python 3.7.4 64-bit",
   "language": "python",
   "name": "python3"
  },
  "language_info": {
   "codemirror_mode": {
    "name": "ipython",
    "version": 3
   },
   "file_extension": ".py",
   "mimetype": "text/x-python",
   "name": "python",
   "nbconvert_exporter": "python",
   "pygments_lexer": "ipython3",
   "version": "3.12.3"
  },
  "vscode": {
   "interpreter": {
    "hash": "90139cb9a825bf3d63f6f6704e828dbd1ff7edbd4d0c6e906a71235d6efc74af"
   }
  }
 },
 "nbformat": 4,
 "nbformat_minor": 4
}
