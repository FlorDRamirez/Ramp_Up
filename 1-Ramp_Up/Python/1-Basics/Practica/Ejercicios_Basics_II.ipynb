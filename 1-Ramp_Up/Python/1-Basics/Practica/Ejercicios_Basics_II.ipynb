{
 "cells": [
  {
   "cell_type": "markdown",
   "metadata": {},
   "source": [
    "![imagen](./img/ejercicios.png)"
   ]
  },
  {
   "cell_type": "markdown",
   "metadata": {},
   "source": [
    "# Ejercicios Python Basics II"
   ]
  },
  {
   "cell_type": "markdown",
   "metadata": {},
   "source": [
    "## Ejercicio 1\n",
    "* Crea dos variables numericas: un `int` y un `float`\n",
    "* Comprueba sus tipos\n",
    "* Sumalas en otra nueva\n",
    "* ¿De qué tipo es la nueva variable?\n",
    "* Elimina las variables creadas"
   ]
  },
  {
   "cell_type": "code",
   "execution_count": 22,
   "metadata": {},
   "outputs": [
    {
     "name": "stdout",
     "output_type": "stream",
     "text": [
      "<class 'int'> <class 'float'>\n",
      "<class 'float'>\n"
     ]
    }
   ],
   "source": [
    "#Crea dos variables numericas: un `int` y un `float`\n",
    "\n",
    "edad = 25\n",
    "peso = 55.5\n",
    "#comprueba sus tipos\n",
    "print(type(edad),type(peso))\n",
    "\n",
    "#Sumalas en otra nueva\n",
    "edad_y_peso = edad + peso\n",
    "\n",
    "#De que tipo es la nueva variable\n",
    "print(type(edad_y_peso))\n",
    "\n",
    "#Elimina las variables creadas\n",
    "del edad, peso, edad_y_peso\n",
    "\n",
    "\n"
   ]
  },
  {
   "cell_type": "markdown",
   "metadata": {},
   "source": [
    "## Ejercicio 2\n",
    "Escribe un programa para pasar de grados a radianes. Hay que usar `input`. Recuerda que la conversión se realiza mediante\n",
    "\n",
    "$$radianes = grados*(pi/180)$$"
   ]
  },
  {
   "cell_type": "code",
   "execution_count": 2,
   "metadata": {},
   "outputs": [
    {
     "name": "stdout",
     "output_type": "stream",
     "text": [
      "20.0 grados son:  0.3490658503988659 radianes\n"
     ]
    }
   ],
   "source": [
    "#Importar math para usar pi\n",
    "import math\n",
    "#ingresar los grados\n",
    "grados = float(input(\"Ingresa los grados:\"))\n",
    "#calcular mediante la formula\n",
    "radianes=grados*(math.pi/180)\n",
    "\n",
    "print(f'{grados} grados son:  {radianes} radianes')"
   ]
  },
  {
   "cell_type": "markdown",
   "metadata": {},
   "source": [
    "## Ejercicio 3\n",
    "Escribe un programa que calcule el area de un paralelogramo (base x altura). También con `input`"
   ]
  },
  {
   "cell_type": "code",
   "execution_count": 19,
   "metadata": {},
   "outputs": [
    {
     "name": "stdout",
     "output_type": "stream",
     "text": [
      "El area del paralelogramo es 16.5\n"
     ]
    }
   ],
   "source": [
    "#Se ingresa la base y la altura\n",
    "base = float(input(\"Ingresar la base:\"))\n",
    "altura = float(input(\"Ingresar la altura:\"))\n",
    "#formula area_paralelogramo=base*altura\n",
    "area=base*altura\n",
    "print(\"El area del paralelogramo es\", area)"
   ]
  },
  {
   "cell_type": "markdown",
   "metadata": {},
   "source": [
    "## Ejercicio 4\n",
    "Tenemos las siguientes variables:\n",
    "\n",
    "```Python\n",
    "A = 4\n",
    "B = \"Text\"\n",
    "C = 4.1\n",
    "```\n",
    "\n",
    "Comprueba:\n",
    "1. Si A y B son equivalentes\n",
    "2. Si A y C NO son equivalentes\n",
    "3. Si A es mayor que C \n",
    "4. Si C es menor o igual que A\n",
    "5. Si B NO es equivalente a C"
   ]
  },
  {
   "cell_type": "code",
   "execution_count": 25,
   "metadata": {},
   "outputs": [
    {
     "name": "stdout",
     "output_type": "stream",
     "text": [
      "False\n",
      "True\n",
      "False\n",
      "False\n",
      "True\n"
     ]
    }
   ],
   "source": [
    "\n",
    "A= 4\n",
    "B = \"Text\"\n",
    "C = 4.1\n",
    "print(A==B)\n",
    "print(A!=C)\n",
    "print(A > C)\n",
    "print(C <= A)\n",
    "print(B!=C)"
   ]
  },
  {
   "cell_type": "markdown",
   "metadata": {},
   "source": [
    "## Ejercicio 5\n",
    "Crea un programa donde se recojan dos inputs del usuario, y el output del programa sea si esos inputs son iguales o no"
   ]
  },
  {
   "cell_type": "code",
   "execution_count": 27,
   "metadata": {},
   "outputs": [
    {
     "name": "stdout",
     "output_type": "stream",
     "text": [
      "False\n"
     ]
    }
   ],
   "source": [
    "dato1 = input(\"Ingresa un numero del 1 al 100\")\n",
    "dato2 = input(\"ingresa otro numero del 1 al 100\")\n",
    "print(dato1 == dato2)"
   ]
  },
  {
   "cell_type": "markdown",
   "metadata": {},
   "source": [
    "## Ejercicio 6\n",
    "Mismo programa que en 5, pero en esta ocasión tienen que ser tres inputs y dos salidas. Una de las salidas que nos indique si todos son iguales, y la otra si al menos dos inputs sí que lo son"
   ]
  },
  {
   "cell_type": "code",
   "execution_count": 33,
   "metadata": {},
   "outputs": [
    {
     "name": "stdout",
     "output_type": "stream",
     "text": [
      "True\n",
      "False\n"
     ]
    }
   ],
   "source": [
    "dato1= input(\"Ingresa un numero del 1 al 50\")\n",
    "datos2= input(\"Ingresa otro numero del 1 al 50\")\n",
    "dato3= input(\"Ingresa otro numero del 1 al 50\")\n",
    "print(dato1 == dato2 or dato1 == dato3 or dato2 == dato3)\n",
    "print(dato1 == dato2 == dato3)"
   ]
  },
  {
   "cell_type": "markdown",
   "metadata": {},
   "source": [
    "## Ejercicio 7\n",
    "Crea un programa que recoja dos inputs. Tiene que comprobar si su suma es igual, superior o inferior a 10, cada condición por separado"
   ]
  },
  {
   "cell_type": "code",
   "execution_count": 5,
   "metadata": {},
   "outputs": [
    {
     "name": "stdout",
     "output_type": "stream",
     "text": [
      "False\n",
      "True\n",
      "False\n"
     ]
    }
   ],
   "source": [
    "numero1 = input(\"Ingresa un numero\")\n",
    "numero2= input(\"Ingresa otro numero\")\n",
    "suma = int(numero1) + int(numero2)\n",
    "print(suma == 10)\n",
    "print(suma > 10)\n",
    "print(suma < 10)\n",
    "\n"
   ]
  },
  {
   "attachments": {},
   "cell_type": "markdown",
   "metadata": {},
   "source": [
    "## Ejercicio 8\n",
    "Razona sin ejecutar código el output que obtendremos de las siguientes sentencias\n",
    "1. True and True and False\n",
    "2. not ((True or False) and (True or False))\n",
    "3. (False or False or False or True) and False\n",
    "4. not False and True and not True\n",
    "\n",
    "Compruébalo después con python"
   ]
  },
  {
   "cell_type": "markdown",
   "metadata": {},
   "source": [
    "1. False\n",
    "2. False\n",
    "3. False\n",
    "4. False"
   ]
  },
  {
   "cell_type": "markdown",
   "metadata": {},
   "source": [
    "## Ejercicio 9\n",
    "Para este ejercicio vamos a poner en práctica [las funciones built in](https://docs.python.org/3/library/functions.html).\n",
    "\n",
    "1. Calcula el máximo de la lista: [4, 6, 8, -1]\n",
    "2. Suma todos los elementos de la lista anterior\n",
    "3. Redondea este float a 3 dígitos decimales: 63.451256965\n",
    "4. Valor absoluto de: -74"
   ]
  },
  {
   "cell_type": "code",
   "execution_count": 14,
   "metadata": {},
   "outputs": [
    {
     "name": "stdout",
     "output_type": "stream",
     "text": [
      "Lista original [4, 6, 8, -1] \tValor maximo de la lista: 8\tSuma de todos los elementos de la lista: 17\n",
      "El número decimal 63.451256965 redondeado a 3 dígitos decimales es: 63.451\n",
      "El valor absoluto de -74 es 74\n"
     ]
    }
   ],
   "source": [
    "lista = [4,6,8,-1]\n",
    "valor_maximo = max(lista)\n",
    "suma_valores = sum(lista)\n",
    "print(f'Lista original {lista} \\tValor maximo de la lista: {valor_maximo}\\tSuma de todos los elementos de la lista: {suma_valores}')\n",
    "\n",
    "numero_decimal = 63.451256965\n",
    "redondear = round(numero_decimal,3)\n",
    "print(f'El número decimal {numero_decimal} redondeado a 3 dígitos decimales es: {redondear}')\n",
    "\n",
    "numero=-74\n",
    "valor_absoluto = abs(numero)\n",
    "print(f'El valor absoluto de {numero} es {valor_absoluto}')"
   ]
  },
  {
   "cell_type": "markdown",
   "metadata": {},
   "source": [
    "## Ejercicio 10\n",
    "Para el siguiente string se pide imprimir por pantalla los siguientes casos\n",
    "\n",
    "    \"Lo primero de todo, cómo están los máquinas\"\n",
    "\n",
    "1. Pasarlo todo a mayúsculas\n",
    "2. Pasarlo todo a minúsculas\n",
    "3. Pasar a mayúsculas solo las iniciales de las palabras\n",
    "4. Crea una lista dividiendolo por sus espacios\n",
    "5. Sustituye las comas `,` por puntos y comas `;`\n",
    "6. Elimina las `a` minúsculas"
   ]
  },
  {
   "cell_type": "code",
   "execution_count": 20,
   "metadata": {},
   "outputs": [
    {
     "name": "stdout",
     "output_type": "stream",
     "text": [
      "LO PRIMERO DE TODO, CÓMO ESTÁN LOS MÁQUINAS\n",
      "lo primero de todo, cómo están los máquinas\n",
      "Lo Primero De Todo, Cómo Están Los Máquinas\n",
      "['Lo', 'primero', 'de', 'todo,', 'cómo', 'están', 'los', 'máquinas']\n",
      "Lo primero de todo; cómo están los máquinas\n",
      "Frase original: Lo primero de todo, cómo están los máquinas \tFrase modificada:Lo primero de todo, cómo están los máquins\n"
     ]
    }
   ],
   "source": [
    "# 1.- Pasar a mayuscula \"Lo primero de todo, cómo están los máquinas\"\n",
    "frase = \"Lo primero de todo, cómo están los máquinas\"\n",
    "print(frase.upper())\n",
    "\n",
    "#2.- pasarlo todo a minuscula\n",
    "print(frase.lower())\n",
    "\n",
    "#3.- Pasar a mayúsculas solo las iniciales de las palabras\n",
    "print(frase.title())\n",
    "\n",
    "#4.- Crea una lista dividiendolo por sus espacios\n",
    "print(frase.split())\n",
    "\n",
    "#5.-Sustituye las comas `,` por puntos y comas `;`\n",
    "print(frase.replace(\",\",\";\"))\n",
    "\n",
    "#6.- Elimina las `a` minúsculas\n",
    "letra='a'\n",
    "frase_letra_eliminar = frase.replace(letra,\"\")\n",
    "print(f'Frase original: {frase} \\tFrase modificada:{frase_letra_eliminar}')\n",
    "\n"
   ]
  },
  {
   "cell_type": "markdown",
   "metadata": {},
   "source": [
    "## Ejercicio 11\n",
    "1. Crea una lista con 3 elementos numéricos\n",
    "2. Añade un cuarto elemento\n",
    "3. Calcula la suma de todos\n",
    "4. Elimina el segundo elemento de la lista\n",
    "5. Añade otro elemento en la posicion 3 de la lista\n",
    "6. Crea otra lista con 4 elementos y concaténala a la que ya tenías."
   ]
  },
  {
   "cell_type": "code",
   "execution_count": 40,
   "metadata": {},
   "outputs": [
    {
     "name": "stdout",
     "output_type": "stream",
     "text": [
      "Lista: [3, 6, 9, 12]\tSuma de elementos de la lista: 30\n",
      "\n",
      "Elemento eliminado de la lista: 6\t Lista final: [3, 9, 12]\n",
      "\n",
      "Lista con elemento añadido: [3, 9, 15, 12]\n",
      "\n",
      "Lista concatenada: [3, 9, 15, 12, 18, 21, 24, 27]\n"
     ]
    }
   ],
   "source": [
    "#Crea una lista con 3 elementos numéricos\n",
    "mi_lista = [3,6,9]\n",
    "#Añade un cuarto elemento, en este caso añadi el Nº 12\n",
    "añadir_elemento = mi_lista.append(12)\n",
    "#Calcula la suma de todos\n",
    "sumar_lista = sum(mi_lista)\n",
    "print(f\"Lista: {mi_lista}\\tSuma de elementos de la lista: {sumar_lista}\")\n",
    "\n",
    "print(f\"\\nElemento eliminado de la lista: {mi_lista.pop(1)}\\t Lista final: {mi_lista}\")\n",
    "\n",
    "#Añade otro elemento en la posicion 2 de la lista\n",
    "elemento = 15\n",
    "mi_lista.insert(2,elemento)\n",
    "print(f\"\\nLista con elemento añadido: {mi_lista}\")\n",
    "\n",
    "#Crea otra lista con 4 elementos y concatenala a la que ya tenías\n",
    "nueva_lista = [18,21,24,27]\n",
    "concatenar_listas = mi_lista + nueva_lista\n",
    "print(f\"\\nLista concatenada: {concatenar_listas}\")\n",
    "\n",
    "\n"
   ]
  }
 ],
 "metadata": {
  "kernelspec": {
   "display_name": "Python 3.7.4 64-bit",
   "language": "python",
   "name": "python3"
  },
  "language_info": {
   "codemirror_mode": {
    "name": "ipython",
    "version": 3
   },
   "file_extension": ".py",
   "mimetype": "text/x-python",
   "name": "python",
   "nbconvert_exporter": "python",
   "pygments_lexer": "ipython3",
   "version": "3.12.3"
  },
  "nbTranslate": {
   "displayLangs": [
    "*"
   ],
   "hotkey": "alt-t",
   "langInMainMenu": true,
   "sourceLang": "en",
   "targetLang": "fr",
   "useGoogleTranslate": true
  },
  "varInspector": {
   "cols": {
    "lenName": 16,
    "lenType": 16,
    "lenVar": 40
   },
   "kernels_config": {
    "python": {
     "delete_cmd_postfix": "",
     "delete_cmd_prefix": "del ",
     "library": "var_list.py",
     "varRefreshCmd": "print(var_dic_list())"
    },
    "r": {
     "delete_cmd_postfix": ") ",
     "delete_cmd_prefix": "rm(",
     "library": "var_list.r",
     "varRefreshCmd": "cat(var_dic_list()) "
    }
   },
   "types_to_exclude": [
    "module",
    "function",
    "builtin_function_or_method",
    "instance",
    "_Feature"
   ],
   "window_display": false
  },
  "vscode": {
   "interpreter": {
    "hash": "90139cb9a825bf3d63f6f6704e828dbd1ff7edbd4d0c6e906a71235d6efc74af"
   }
  }
 },
 "nbformat": 4,
 "nbformat_minor": 4
}
