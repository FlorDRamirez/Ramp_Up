{
 "cells": [
  {
   "cell_type": "markdown",
   "metadata": {},
   "source": [
    "![imagen](./img/ejercicios.png)\n",
    "\n",
    "# Ejercicios Clases y Objetos"
   ]
  },
  {
   "attachments": {},
   "cell_type": "markdown",
   "metadata": {},
   "source": [
    "## Ejercicio 1\n",
    "Somos una empresa que tiene varias tiendas de electrodomésticos. Necesitamos un programa para manejar las tiendas, ver las ventas que han tenido, cuántos empleados hay, etc... Para ello vamos a modelizar la tienda en una clase, que tendrá las siguientes características:\n",
    "* Nombre clase: \"Tienda\"\n",
    "* Atributos comunes:\n",
    "    * Tipo: \"Electrodomésticos\"\n",
    "    * Abierta: True\n",
    "* Atributos propios de cada tienda:\n",
    "    * Nombre - String\n",
    "    * Dirección - String\n",
    "    * Número de empleados - int\n",
    "    * Ventas últimos 3 meses - Lista de 3 numeros\n",
    "* Método para calcular las ventas de todos los meses, que devuelva un número con todas las ventas.\n",
    "* Método que calcula la media de ventas de los últimos meses, por empleado\n",
    "* Método que devuelve en un string el nombre de la tienda, junto con su dirección.\n",
    "* Método que obtiene las ventas del último mes.\n",
    "* Método para dar una proyección de las ventas en caso de haber invertido X dinero en marketing en esa tienda. Siendo X el parámetro de entrada. Si X es menor de 1000, las ventas de los ultimos 3 meses hubiesen sido de (1.2 x ventas), si es mayor o igual de 1000, las ventas hubiesen sido de (1.5 x venta). El método reescribe el atributo de ventas en los últimos 3 meses, y además devuelve las ventas con el aumento.\n",
    "\n",
    "Se pide:\n",
    "1. Implementar la clase \"Tienda\"\n",
    "2. Crear tres tiendas con datos inventados\n",
    "3. Comprueba en al menos una de ellas, todo lo implementado en la clase tienda (sus atributos, media de ventas, ventas/empleado...)\n",
    "3. Calcular las ventas del último mes de todas las tiendas. Para ello usa el bucle `for`\n",
    "4. Imprime por pantalla los nombres de las tiendas cuya dirección lleve el string \"Avenida\"\n",
    "5. Seguro que ya has hecho este apartado... Documenta la clase :)"
   ]
  },
  {
   "cell_type": "code",
   "execution_count": 47,
   "metadata": {},
   "outputs": [],
   "source": [
    "#1.- Implementar la clase Tienda\n",
    "class Tienda:\n",
    "#atributos de clase\n",
    "    tipo = \"electrodomesticos\"\n",
    "    abierta = True\n",
    "#constructor    \n",
    "    def __init__(self, nombre_tienda, direccion_tienda, nume_empleados, ventas):\n",
    "        self.nombre_tienda= nombre_tienda   #atributos de objeto\n",
    "        self.direccion_tienda=direccion_tienda\n",
    "        self.nume_empleados=nume_empleados\n",
    "        self.ventas = ventas\n",
    "#metodos\n",
    "#calcular las ventas de todos los meses\n",
    "    def ventas_totales(self):\n",
    "        return sum(self.ventas)\n",
    "\n",
    "# Método que calcula la media de ventas de los últimos meses, por empleado\n",
    "    def ventas_por_empleado(self):\n",
    "        return self.ventas_totales() / self.nume_empleados\n",
    "\n",
    "#Método que devuelve en un string el nombre de la tienda, junto con su dirección.\n",
    "    def datos_tienda(self):\n",
    "        datos = print(f\"La tienda: {self.nombre_tienda} se encuentra ubicada en: {self.direccion_tienda}\")\n",
    "        return datos\n",
    "\n",
    "#Método que obtiene las ventas del último mes.\n",
    "    def ventas_ultimo_mes(self):\n",
    "        \n",
    "        return self.ventas[-1]\n"
   ]
  },
  {
   "cell_type": "code",
   "execution_count": 44,
   "metadata": {},
   "outputs": [
    {
     "name": "stdout",
     "output_type": "stream",
     "text": [
      "Las ventas totales son: 60\n",
      "Venta media: 10.0\n",
      "Venta ultimo mes: 30\n",
      "La tienda: LG se encuentra ubicada en: Bilbao\n",
      "None\n",
      "\n",
      "\n",
      "Las ventas totales son: 16000\n",
      "Venta media: 800.0\n",
      "Venta ultimo mes: 10000\n",
      "La tienda: PC Solucion se encuentra ubicada en:  Barakaldo Avenida\n",
      "None\n",
      "\n",
      "\n",
      "Las ventas totales son: 18000\n",
      "Venta media: 180.0\n",
      "Venta ultimo mes: 3000\n",
      "La tienda: Mis Electrodomesticos se encuentra ubicada en: Avenida San Eloy\n",
      "None\n"
     ]
    }
   ],
   "source": [
    "#2.- Crear tres (3) tiendas, ingresando datos de las tres (3) tiendas\n",
    "tienda1=Tienda(\"LG\",\"Bilbao\",6,[10,20,30])\n",
    "print(\"Las ventas totales son:\",tienda1.ventas_totales())\n",
    "print(\"Venta media:\",tienda1.ventas_por_empleado())\n",
    "print(\"Venta ultimo mes:\",tienda1.ventas[-1])\n",
    "print(tienda1.datos_tienda())\n",
    "print(\"\\n\")\n",
    "\n",
    "tienda2=Tienda(\"PC Solucion\",\" Barakaldo Avenida\",20,[1000,5000,10000])\n",
    "print(\"Las ventas totales son:\",tienda2.ventas_totales())\n",
    "print(\"Venta media:\",tienda2.ventas_por_empleado())\n",
    "print(\"Venta ultimo mes:\",tienda2.ventas[-1])\n",
    "print(tienda2.datos_tienda())\n",
    "print(\"\\n\")\n",
    "\n",
    "tienda3=Tienda(\"Mis Electrodomesticos\",\"Avenida San Eloy\",100,[10000,5000,3000])\n",
    "print(\"Las ventas totales son:\",tienda3.ventas_totales())\n",
    "print(\"Venta media:\",tienda3.ventas_por_empleado())\n",
    "print(\"Venta ultimo mes:\",tienda3.ventas[-1])\n",
    "print(tienda3.datos_tienda())"
   ]
  },
  {
   "cell_type": "code",
   "execution_count": 45,
   "metadata": {},
   "outputs": [
    {
     "name": "stdout",
     "output_type": "stream",
     "text": [
      "Las ventas en total en las 3 tiendas son: 13030\n"
     ]
    }
   ],
   "source": [
    "#3.- Calcular las ventas del último mes de todas las tiendas. Para ello usa el bucle `for`\n",
    "for x in [tienda1,tienda2,tienda3]:\n",
    "    ventas_generales = tienda1.ventas[-1]+tienda2.ventas[-1]+tienda3.ventas[-1]\n",
    "print(\"Las ventas en total en las 3 tiendas son:\",ventas_generales)"
   ]
  },
  {
   "cell_type": "code",
   "execution_count": 46,
   "metadata": {},
   "outputs": [
    {
     "name": "stdout",
     "output_type": "stream",
     "text": [
      "Nombre de la tienda: PC Solucion-- Barakaldo Avenida\n",
      "Nombre de la tienda: Mis Electrodomesticos--Avenida San Eloy\n"
     ]
    }
   ],
   "source": [
    "# 4.- Imprime por pantalla los nombres de las tiendas cuya dirección lleve el string \"Avenida\"\n",
    "for x in [tienda1, tienda2, tienda3]:\n",
    "    tienda_encontrada=x.direccion_tienda\n",
    "    \n",
    "    if \"Avenida\"  in x.direccion_tienda:\n",
    "        print(f\"Nombre de la tienda: {x.nombre_tienda}--{tienda_encontrada}\")\n",
    "    "
   ]
  },
  {
   "cell_type": "code",
   "execution_count": 38,
   "metadata": {},
   "outputs": [],
   "source": [
    "\n",
    "# 5.- Método para dar una proyección de las ventas en caso de haber invertido X dinero en marketing en esa tienda. Siendo X el parámetro de entrada. Si X es menor de 1000, las ventas de los ultimos 3 meses hubiesen sido de (1.2 x ventas), \n",
    "#si es mayor o igual de 1000, las ventas hubiesen sido de (1.5 x venta). El método reescribe el atributo de ventas en los últimos 3 meses, \n",
    "#y además devuelve las ventas con el aumento.\n"
   ]
  },
  {
   "cell_type": "code",
   "execution_count": null,
   "metadata": {},
   "outputs": [],
   "source": [
    "def proyeccion_ventas(self,dinero_invertido):\n",
    "    self.dinero_invertido=dinero_invertido\n",
    "    "
   ]
  },
  {
   "cell_type": "markdown",
   "metadata": {},
   "source": [
    "## Ejercicio 2\n",
    "En este ejercicio vamos a implementar una clase *Perro* en Python. La clase tiene las siguientes características:\n",
    "* Cosas que sabemos seguro que tiene un perro\n",
    "    * Tiene 4 patas\n",
    "    * 2 orejas\n",
    "    * 2 ojos\n",
    "    * Una velocidad de 0. Por defecto, el perro está parado\n",
    "* Cuando se inicialice:\n",
    "    * El perro será de una determinada raza\n",
    "    * Por defecto tendrá pelo \"Marrón\", a no ser que se diga lo contrario.\n",
    "    * Por defecto no tendrá dueño, a no ser que se diga lo contrario.\n",
    "    \n",
    "* Dispondrá también de un método llamado andar, que tiene un argumento de entrada (aumento_velocidad). Este valor se le sumará a la velocidad que ya llevaba el perro.\n",
    "* Necesita otro método (parar), donde pondremos la velocidad a 0.\n",
    "* Otro método llamado \"ladrar\", que tendrá un argumento de entrada, y la salida será el siguiente string: \"GUAU!\" + el argumento de entrada.\n",
    "\n",
    "\n",
    "Se pide:\n",
    "* Implementa la clase *Perro*\n",
    "* Crea un objeto de tipo *Perro*, sin dueño\n",
    "* Comprueba que están bien todos sus atributos\n",
    "* Prueba que ande, y comprueba su velocidad\n",
    "* Páralo\n",
    "* Documenta la clase *Perro*"
   ]
  },
  {
   "cell_type": "code",
   "execution_count": 40,
   "metadata": {},
   "outputs": [],
   "source": [
    "#Creando clase Perro, constructor y metodos\n",
    "class Perro():\n",
    "    patas=4\n",
    "    orejas=2\n",
    "    ojos=2\n",
    "    velocidad=0\n",
    "\n",
    "    #constructor\n",
    "    def __init__(self,raza,pelo=\"marron\",dueño=False):\n",
    "        self.raza=raza\n",
    "        self.pelo=pelo\n",
    "        self.dueño=dueño\n",
    "    \n",
    "    def andar(self,aumento_velocidad):\n",
    "        self.aumento_velocidad=self.aumento_velocidad+aumento_velocidad\n",
    "        \n",
    "    def parar(self):\n",
    "        self.velocidad=0\n",
    "\n",
    "    def ladrar(self,ladrido):\n",
    "        self.ladrido=ladrido\n",
    "        print(\"Guau\")\n",
    "        "
   ]
  },
  {
   "cell_type": "code",
   "execution_count": 41,
   "metadata": {},
   "outputs": [
    {
     "name": "stdout",
     "output_type": "stream",
     "text": [
      "Mi perro tiene 4 patas,  2 orejas, 2 ojos, y su velocidad es 0\n",
      "su pelo es de color marron y es de raza Golden R\n"
     ]
    }
   ],
   "source": [
    "#crear objeto perro\n",
    "perrito= Perro(raza=\"\",dueño=False)\n",
    "perrito.raza = input(\"Raza perro:\")\n",
    "print(f\"Mi perro tiene {perrito.patas} patas,  {perrito.orejas} orejas, {perrito.ojos} ojos, y su velocidad es {perrito.velocidad}\")\n",
    "print(f\"su pelo es de color {perrito.pelo} y es de raza {perrito.raza}\")"
   ]
  },
  {
   "cell_type": "code",
   "execution_count": null,
   "metadata": {},
   "outputs": [],
   "source": [
    "#Comprobar que ande y velocidad"
   ]
  },
  {
   "cell_type": "code",
   "execution_count": null,
   "metadata": {},
   "outputs": [],
   "source": [
    "#Parar al perro"
   ]
  },
  {
   "cell_type": "code",
   "execution_count": null,
   "metadata": {},
   "outputs": [],
   "source": []
  }
 ],
 "metadata": {
  "kernelspec": {
   "display_name": "Python 3.7.4 64-bit",
   "language": "python",
   "name": "python3"
  },
  "language_info": {
   "codemirror_mode": {
    "name": "ipython",
    "version": 3
   },
   "file_extension": ".py",
   "mimetype": "text/x-python",
   "name": "python",
   "nbconvert_exporter": "python",
   "pygments_lexer": "ipython3",
   "version": "3.12.3"
  },
  "vscode": {
   "interpreter": {
    "hash": "90139cb9a825bf3d63f6f6704e828dbd1ff7edbd4d0c6e906a71235d6efc74af"
   }
  }
 },
 "nbformat": 4,
 "nbformat_minor": 4
}
