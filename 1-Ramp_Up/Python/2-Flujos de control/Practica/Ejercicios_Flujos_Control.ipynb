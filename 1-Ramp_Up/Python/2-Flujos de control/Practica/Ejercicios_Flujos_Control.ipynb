{
 "cells": [
  {
   "cell_type": "markdown",
   "metadata": {},
   "source": [
    "![imagen](./img/ejercicios.png)"
   ]
  },
  {
   "cell_type": "markdown",
   "metadata": {},
   "source": [
    "# Ejercicios Flujos de control"
   ]
  },
  {
   "cell_type": "markdown",
   "metadata": {},
   "source": [
    "## Ejercicio 1\n",
    "Declara una variable numérica que será una hora cualquiera del día. Implementa la siguiente casuística:\n",
    "\n",
    "* Si es entre las 0 y las 8, print \"Durmiendo\"\n",
    "* Si es entre las 9 y las 18, print \"Trabajando\"\n",
    "* Si es entre las 19 y las 21, print \"Clase\"\n",
    "* Si es entre las 22 y las 24, print \"Descanso\"\n",
    "* En cualquier otro caso, print \"Transporte o error\""
   ]
  },
  {
   "cell_type": "code",
   "execution_count": 7,
   "metadata": {},
   "outputs": [
    {
     "name": "stdout",
     "output_type": "stream",
     "text": [
      "Transporte o Error\n"
     ]
    }
   ],
   "source": [
    "hora = int(input(\"Ingresa la hora:\"))\n",
    "if(hora >= 0 and hora <=8):\n",
    "    print(f'Son las {hora}:00 horas, debes estar Durmiendo')\n",
    "elif (hora >= 9 and hora <=18):\n",
    "    print(f'Son las {hora}:00 horas, debes estar Trabajando')\n",
    "elif (hora >= 19 and hora <=21):\n",
    "    print(f'Son las {hora}:00 horas, debes estar en Clase')\n",
    "elif (hora >= 22 and hora <=24):\n",
    "    print(f'Son las {hora}:00 horas, debes estar en Descanso')\n",
    "else:\n",
    "    print(\"Transporte o Error\")\n",
    "    "
   ]
  },
  {
   "cell_type": "markdown",
   "metadata": {},
   "source": [
    "## Ejercicio 2\n",
    "En este ejercicio vamos a implementar un calculador de precios de casas muy sencillo. Tenemos las siguientes variables:\n",
    "\n",
    "> superficie\n",
    ">\n",
    "> distrito\n",
    "\n",
    "Implementa la siguiente casuística:\n",
    "\n",
    "1. Si el distrito es \"Moncloa\" o \"Centro\", y además la superficie es superior a 100 metros cuadrados, el precio de la casa es de 1000\n",
    "2. Si el distrito es \"Salamanca\", y además la superficie de la casa es al menos de 150 metros, el precio de la casa es de 1500\n",
    "3. Si el distrito no es \"Retiro\" y la superficie está entre 60 y 80 metros, el precio es de 600\n",
    "4. En cualquier otro caso, el precio será de 0"
   ]
  },
  {
   "cell_type": "code",
   "execution_count": 6,
   "metadata": {},
   "outputs": [
    {
     "name": "stdout",
     "output_type": "stream",
     "text": [
      "precio 0\n"
     ]
    }
   ],
   "source": [
    "distrito = input(\"Ingrese distrito (Moncloa/Centro/Salamanca/Retiro)\")\n",
    "superficie = int(input(\"Ingrese los metros cuadrados (entre 60 mts cuadrados y 80 mts cuadrados / +100mts cuadrados / 150 metros cuadrados)\"))\n",
    "if(distrito == \"Moncloa\" or distrito == \"Centro\") and (superficie > 100):\n",
    "    print(\"El precio de la casa es de 1000\")\n",
    "elif (distrito == \"Salamanca\") and (superficie == 150):\n",
    "    print(\"El precio de la casa es de 1500\")\n",
    "elif (distrito != \"Retiro\") and (superficie >= 60 and superficie <= 80):\n",
    "    print(\"El precio de la casa es 600\")\n",
    "else:\n",
    "    print(\"precio 0\")\n"
   ]
  },
  {
   "cell_type": "markdown",
   "metadata": {},
   "source": [
    "## Ejercicio 3\n",
    "En este ejercicio vamos a realizar un programa muy parecido. Para este caso queremos que se cumplan las siguientes condiciones:\n",
    "\n",
    "1. Primero se compruebe si el distrito es \"Retiro\". Si es asá, que imprima \"Distrito Retiro\", y si no, \"Otro distrito\"\n",
    "2. Si el distrito es \"Retiro\", comprueba si la superficie es mayor de 100 metros cuadrados. En tal caso, que imprima un precio de 1000, y si no, de 500.\n",
    "\n",
    "Prueba a usar `ifs` anidados"
   ]
  },
  {
   "cell_type": "code",
   "execution_count": 7,
   "metadata": {},
   "outputs": [
    {
     "name": "stdout",
     "output_type": "stream",
     "text": [
      "Distrito retiro\n",
      "El precio es de 500\n"
     ]
    }
   ],
   "source": [
    "distrito = input(\"Ingrese el distrito\")\n",
    "if(distrito == \"Retiro\"):\n",
    "    superficie = int(input(\"ingrese la superficie\"))\n",
    "    print(\"Distrito retiro\")\n",
    "    if(superficie > 100):\n",
    "        print(\"precio es de 1000\")\n",
    "    else:\n",
    "        print(\"El precio es de 500\")\n",
    "\n",
    "else:\n",
    "    print(\"Otro distrito\")\n"
   ]
  },
  {
   "cell_type": "markdown",
   "metadata": {},
   "source": [
    "## Ejercicio 4\n",
    "Escribe un programa que tenga dos variables: un numero, y una lista numérica. El programa debe recorrer la lista e imprimir por pantalla cada elemento de la lista multiplicado por el número"
   ]
  },
  {
   "cell_type": "code",
   "execution_count": 10,
   "metadata": {},
   "outputs": [
    {
     "name": "stdout",
     "output_type": "stream",
     "text": [
      "Lista original [2, 4, 6, 8]\tLista multiplicada por 2: [4, 8, 12, 16]\n"
     ]
    }
   ],
   "source": [
    "numero = 2\n",
    "lista = [2,4,6,8]\n",
    "lista_multi = []\n",
    "for i in lista:\n",
    "    lista_multi.append(i*numero)\n",
    "\n",
    "print(f\"Lista original {lista}\\tLista multiplicada por {numero}: {lista_multi}\")\n",
    "\n"
   ]
  },
  {
   "cell_type": "markdown",
   "metadata": {},
   "source": [
    "## Ejercicio 5\n",
    "Imprime por pantalla cada número del -10 al -1. En ese orden. Consulta [la documentación](https://www.w3schools.com/python/ref_func_range.asp) de `range`"
   ]
  },
  {
   "cell_type": "code",
   "execution_count": 16,
   "metadata": {},
   "outputs": [
    {
     "name": "stdout",
     "output_type": "stream",
     "text": [
      "Cuenta regresiva: -10\n",
      "Cuenta regresiva: -9\n",
      "Cuenta regresiva: -8\n",
      "Cuenta regresiva: -7\n",
      "Cuenta regresiva: -6\n",
      "Cuenta regresiva: -5\n",
      "Cuenta regresiva: -4\n",
      "Cuenta regresiva: -3\n",
      "Cuenta regresiva: -2\n",
      "Cuenta regresiva: -1\n"
     ]
    }
   ],
   "source": [
    "rango_numeros = range(-10,0)\n",
    "for numeros in rango_numeros:\n",
    "    print(f'Cuenta regresiva: {numeros}')"
   ]
  },
  {
   "cell_type": "markdown",
   "metadata": {},
   "source": [
    "## Ejercicio 6\n",
    "Dada la siguiente lista:\n",
    "\n",
    "> list1 = [12, 15, 32, 42, 55, 75, 122, 132, 150, 180, 200]\n",
    "\n",
    "Implementa un programa que los recorra e imprima por pantalla todos los divisibles por 5. Si nos encontramos con alguno que sea mayor que 150, detener el bucle."
   ]
  },
  {
   "cell_type": "code",
   "execution_count": 32,
   "metadata": {},
   "outputs": [
    {
     "name": "stdout",
     "output_type": "stream",
     "text": [
      "El numero 15 es divisible entre 5, ya que su resto es : 0\n",
      "El numero 55 es divisible entre 5, ya que su resto es : 0\n",
      "El numero 75 es divisible entre 5, ya que su resto es : 0\n",
      "El numero 150 es divisible entre 5, ya que su resto es : 0\n"
     ]
    }
   ],
   "source": [
    "list1 = [12, 15, 32, 42, 55, 75, 122, 132, 150,180, 200]\n",
    "for i in list1:\n",
    "    if i > 150:\n",
    "        break\n",
    "    else:\n",
    "        numero_divisible = i%5\n",
    "        if(numero_divisible == 0):\n",
    "            print(f\"El numero {i} es divisible entre 5, ya que su resto es : {numero_divisible}\")\n"
   ]
  },
  {
   "attachments": {},
   "cell_type": "markdown",
   "metadata": {},
   "source": [
    "## Ejercicio 7\n",
    "Escribe un programa en Python que imprima por pantalla todos los números que cumplan que sean divisibles por 5 y divisibles por 7, dentro del rango de valores (150, 350)."
   ]
  },
  {
   "cell_type": "code",
   "execution_count": 77,
   "metadata": {},
   "outputs": [
    {
     "name": "stdout",
     "output_type": "stream",
     "text": [
      "El numero 175 es divisible entre 5 y 7 ya que su resto es 0\n",
      "El numero 210 es divisible entre 5 y 7 ya que su resto es 0\n",
      "El numero 245 es divisible entre 5 y 7 ya que su resto es 0\n",
      "El numero 280 es divisible entre 5 y 7 ya que su resto es 0\n",
      "El numero 315 es divisible entre 5 y 7 ya que su resto es 0\n"
     ]
    }
   ],
   "source": [
    "rango_numeros = range(150,350)\n",
    "for numeros in rango_numeros:\n",
    "    numero_divisible5 = numeros%5\n",
    "    numero_divisible7 = numeros%7\n",
    "    if(numero_divisible5 == 0) and (numero_divisible7== 0):\n",
    "        print(f\"El numero {numeros} es divisible entre 5 y 7 ya que su resto es 0\")\n"
   ]
  },
  {
   "cell_type": "markdown",
   "metadata": {},
   "source": [
    "## Ejercicio 8\n",
    "Implementa un programa que imprima por pantalla el siguiente patrón\n",
    "\n",
    "5 4 3 2 1 \n",
    "\n",
    "4 3 2 1 \n",
    "\n",
    "3 2 1 \n",
    "\n",
    "2 1 \n",
    "\n",
    "1\n",
    "\n",
    "NOTA: NO hay lineas en blanco entre una línea y otra."
   ]
  },
  {
   "cell_type": "code",
   "execution_count": 1,
   "metadata": {},
   "outputs": [
    {
     "name": "stdout",
     "output_type": "stream",
     "text": [
      "5  4  3  2  1  \n",
      "\n",
      "4  3  2  1  \n",
      "\n",
      "3  2  1  \n",
      "\n",
      "2  1  \n",
      "\n",
      "1  \n",
      "\n"
     ]
    }
   ],
   "source": [
    "lista = [5,4,3,2,1]\n",
    "for x in range(len(lista), 0, -1):\n",
    "        for y in range(x, 0, -1):\n",
    "            print(y, end=\"  \")\n",
    "        print()\n",
    "        print()\n",
    "\n"
   ]
  },
  {
   "cell_type": "markdown",
   "metadata": {},
   "source": [
    "## Ejercicio 9\n",
    "En este ejercicio vamos a crear un pequeño juego. Se trata de intentar adivinar un numero del 1 al 5. Tenemos dos intentos para acertar. Pasos a seguir:\n",
    "\n",
    "1. Ya viene implementado con la librería `random` cómo obtener un número aleatorio del 1 al 5\n",
    "2. Tendrás que declarar en una variable el numero de vidas, y mediante un bucle while, comprobar que todavia quedan vidas.\n",
    "3. Dentro del bucle, obtener el valor del usuario y comprobar si es ese el numero a adivinar. Si no, actualizar las vidas.\n",
    "4. Si acertamos, salimos del bucle e imprimimos por pantalla \"You win\". Y si perdemos también salimos del bucle, pero en este caso imprimimos por pantalla \"You lose\".\n",
    "\n",
    "TIP: te puede resultar útil usar la sentencia `else` cuando acabe el bucle `while`. Lo que haya dentro de ese `else` se ejecutará una vez acabe la ejecución del `while`. Lo podrás usar para cuando pierdas."
   ]
  },
  {
   "cell_type": "code",
   "execution_count": 37,
   "metadata": {},
   "outputs": [
    {
     "name": "stdout",
     "output_type": "stream",
     "text": [
      "¡¡¡You lose!!! 3 no es igual a 4\n",
      "te queda 1 vida\n",
      "¡¡¡You lose!!! 3 no es igual a 1\n",
      "Tienes 0 vidas...Adios \n"
     ]
    }
   ],
   "source": [
    "import random\n",
    "numero_aleatorio = random.randint(1,5)\n",
    "numero_vidas=int(2)\n",
    "adivinar=int(input(\"Ingrese numero entre 1 y 5\"))\n",
    "\n",
    "while numero_vidas > 0:\n",
    "    if(adivinar == numero_aleatorio):\n",
    "        print(f\"¡¡¡You Win!!! {adivinar} es igual a {numero_aleatorio}\") \n",
    "        break\n",
    "    else: \n",
    "         print(f\"¡¡¡You lose!!! {adivinar} no es igual a {numero_aleatorio}\")\n",
    "         \n",
    "         numero_vidas=numero_vidas-1\n",
    "         numero_aleatorio_nuevo = random.randint(1,5)\n",
    "         print(f\"te queda {numero_vidas} vida\")\n",
    "         adivinar=int(input(\"Segundo intento...Ingrese numero entre 1 y 5\"))\n",
    "         \n",
    "         if(numero_vidas==1) and (adivinar==numero_aleatorio_nuevo):\n",
    "            print(f\"¡¡¡You Win!!! {adivinar} es igual a {numero_aleatorio_nuevo}\") \n",
    "            break\n",
    "         else:\n",
    "             print(f\"¡¡¡You lose!!! {adivinar} no es igual a {numero_aleatorio_nuevo}\") \n",
    "             numero_vidas=numero_vidas-1\n",
    "             print(f\"Tienes {numero_vidas} vidas...Adios \")\n",
    "         break   "
   ]
  }
 ],
 "metadata": {
  "kernelspec": {
   "display_name": "Python 3.7.4 64-bit",
   "language": "python",
   "name": "python3"
  },
  "language_info": {
   "codemirror_mode": {
    "name": "ipython",
    "version": 3
   },
   "file_extension": ".py",
   "mimetype": "text/x-python",
   "name": "python",
   "nbconvert_exporter": "python",
   "pygments_lexer": "ipython3",
   "version": "3.12.3"
  },
  "vscode": {
   "interpreter": {
    "hash": "90139cb9a825bf3d63f6f6704e828dbd1ff7edbd4d0c6e906a71235d6efc74af"
   }
  }
 },
 "nbformat": 4,
 "nbformat_minor": 4
}
